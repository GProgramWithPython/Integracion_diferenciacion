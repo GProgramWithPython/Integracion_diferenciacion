{
 "cells": [
  {
   "cell_type": "code",
   "execution_count": 1,
   "id": "e2847b6e",
   "metadata": {},
   "outputs": [],
   "source": [
    "import numpy as np\n",
    "a=0\n",
    "b=np.pi\n",
    "n=13\n",
    "h=(b-a)/(n-1)\n",
    "x=np.linspace(a,b,n)\n",
    "f=np.sin(x)\n",
    "Int_simp=(h/3)*(f[0]+2*sum(f[:n-2:2])+4*sum(f[1:n-1:2])+f[n-1])"
   ]
  },
  {
   "cell_type": "code",
   "execution_count": 2,
   "id": "1657fd71",
   "metadata": {},
   "outputs": [
    {
     "name": "stdout",
     "output_type": "stream",
     "text": [
      "2.0000526243411856\n"
     ]
    }
   ],
   "source": [
    "print(Int_simp)"
   ]
  },
  {
   "cell_type": "code",
   "execution_count": 3,
   "id": "24761d98",
   "metadata": {},
   "outputs": [],
   "source": [
    "from scipy.integrate import quad"
   ]
  },
  {
   "cell_type": "code",
   "execution_count": 4,
   "id": "9f53feb3",
   "metadata": {},
   "outputs": [],
   "source": [
    "I_opt=quad(np.sin,0,np.pi)"
   ]
  },
  {
   "cell_type": "code",
   "execution_count": 5,
   "id": "05984f29",
   "metadata": {},
   "outputs": [
    {
     "name": "stdout",
     "output_type": "stream",
     "text": [
      "(2.0, 2.220446049250313e-14)\n"
     ]
    }
   ],
   "source": [
    "print(I_opt)"
   ]
  },
  {
   "cell_type": "code",
   "execution_count": null,
   "id": "264b43d3",
   "metadata": {},
   "outputs": [],
   "source": []
  }
 ],
 "metadata": {
  "kernelspec": {
   "display_name": "Python 3",
   "language": "python",
   "name": "python3"
  },
  "language_info": {
   "codemirror_mode": {
    "name": "ipython",
    "version": 3
   },
   "file_extension": ".py",
   "mimetype": "text/x-python",
   "name": "python",
   "nbconvert_exporter": "python",
   "pygments_lexer": "ipython3",
   "version": "3.7.7"
  }
 },
 "nbformat": 4,
 "nbformat_minor": 5
}
