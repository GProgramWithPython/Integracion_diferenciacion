{
 "cells": [
  {
   "cell_type": "code",
   "execution_count": 9,
   "id": "47c21609",
   "metadata": {},
   "outputs": [],
   "source": [
    "import numpy as np\n",
    "%matplotlib inline\n",
    "import matplotlib.pyplot as plt\n",
    "import matplotlib as mpl\n",
    "from scipy import integrate"
   ]
  },
  {
   "cell_type": "code",
   "execution_count": 12,
   "id": "3eac714f",
   "metadata": {},
   "outputs": [
    {
     "name": "stdout",
     "output_type": "stream",
     "text": [
      "1.9835235375094546\n"
     ]
    }
   ],
   "source": [
    "a=0\n",
    "b=np.pi\n",
    "n=11\n",
    "h=(b-a)/(n-1)\n",
    "x=np.linspace(a,b,n)\n",
    "f=np.sin(x)\n",
    "int_trap=(h/2)*(f[0]+2*sum(f[1:n-1])+f[n-1])\n",
    "print(int_trap)"
   ]
  },
  {
   "cell_type": "code",
   "execution_count": 13,
   "id": "65135de4",
   "metadata": {},
   "outputs": [],
   "source": [
    "f=lambda x: np.sin(x)"
   ]
  },
  {
   "cell_type": "code",
   "execution_count": 14,
   "id": "228503f8",
   "metadata": {},
   "outputs": [],
   "source": [
    "x=np.linspace(a,b,25)"
   ]
  },
  {
   "cell_type": "code",
   "execution_count": 15,
   "id": "d6edea9a",
   "metadata": {},
   "outputs": [],
   "source": [
    "y=f(x)"
   ]
  },
  {
   "cell_type": "code",
   "execution_count": 20,
   "id": "f7a063be",
   "metadata": {},
   "outputs": [
    {
     "data": {
      "image/png": "[encoded data removed]",
      "text/plain": [
       "<Figure size 576x216 with 1 Axes>"
      ]
     },
     "metadata": {
      "needs_background": "light"
     },
     "output_type": "display_data"
    }
   ],
   "source": [
    "fig, ax = plt.subplots(figsize=(8, 3))\n",
    "ax.plot(x, y,'*')\n",
    "xx = np.linspace(a, b, 500)\n",
    "ax.plot(xx, f(xx), 'r-')\n",
    "ax.fill_between(xx, f(xx), color='blue', alpha=0.3)\n",
    "ax.set_xlabel(r\"$x$\", fontsize=18)\n",
    "ax.set_ylabel(r\"$f(x)$\", fontsize=18)\n",
    "fig.tight_layout()"
   ]
  },
  {
   "cell_type": "code",
   "execution_count": 21,
   "id": "55e6c16d",
   "metadata": {},
   "outputs": [],
   "source": [
    "trapz=integrate.trapz(y,x)"
   ]
  },
  {
   "cell_type": "code",
   "execution_count": 22,
   "id": "9e20dae1",
   "metadata": {},
   "outputs": [
    {
     "name": "stdout",
     "output_type": "stream",
     "text": [
      "1.9971433958039488\n"
     ]
    }
   ],
   "source": [
    "print(trapz)"
   ]
  },
  {
   "cell_type": "code",
   "execution_count": null,
   "id": "3414af15",
   "metadata": {},
   "outputs": [],
   "source": []
  }
 ],
 "metadata": {
  "kernelspec": {
   "display_name": "Python 3",
   "language": "python",
   "name": "python3"
  },
  "language_info": {
   "codemirror_mode": {
    "name": "ipython",
    "version": 3
   },
   "file_extension": ".py",
   "mimetype": "text/x-python",
   "name": "python",
   "nbconvert_exporter": "python",
   "pygments_lexer": "ipython3",
   "version": "3.8.8"
  }
 },
 "nbformat": 4,
 "nbformat_minor": 5
}
